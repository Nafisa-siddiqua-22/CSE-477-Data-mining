{
  "nbformat": 4,
  "nbformat_minor": 0,
  "metadata": {
    "colab": {
      "provenance": [],
      "authorship_tag": "ABX9TyNUoy4U8ySAAx54p8EZZM7Y",
      "include_colab_link": true
    },
    "kernelspec": {
      "name": "python3",
      "display_name": "Python 3"
    },
    "language_info": {
      "name": "python"
    }
  },
  "cells": [
    {
      "cell_type": "markdown",
      "metadata": {
        "id": "view-in-github",
        "colab_type": "text"
      },
      "source": [
        "<a href=\"https://colab.research.google.com/github/Nafisa-siddiqua-22/CSE-477-Data-mining/blob/main/CSE477_Task_2.ipynb\" target=\"_parent\"><img src=\"https://colab.research.google.com/assets/colab-badge.svg\" alt=\"Open In Colab\"/></a>"
      ]
    },
    {
      "cell_type": "code",
      "execution_count": 29,
      "metadata": {
        "colab": {
          "base_uri": "https://localhost:8080/"
        },
        "id": "HM935J7l-xg1",
        "outputId": "f5925913-c83d-4221-ca36-966434c7e8d8"
      },
      "outputs": [
        {
          "output_type": "stream",
          "name": "stdout",
          "text": [
            "Initial Dataset Info:\n",
            "<class 'pandas.core.frame.DataFrame'>\n",
            "RangeIndex: 6 entries, 0 to 5\n",
            "Data columns (total 6 columns):\n",
            " #   Column  Non-Null Count  Dtype  \n",
            "---  ------  --------------  -----  \n",
            " 0   ID      6 non-null      int64  \n",
            " 1   Name    6 non-null      object \n",
            " 2   Age     5 non-null      float64\n",
            " 3   Salary  5 non-null      float64\n",
            " 4   City    5 non-null      object \n",
            " 5   Score   6 non-null      int64  \n",
            "dtypes: float64(2), int64(2), object(2)\n",
            "memory usage: 416.0+ bytes\n",
            "\n",
            "Initial Dataset Head:\n",
            "   ID     Name    Age   Salary City  Score\n",
            "0   1    Alice   25.0  50000.0   NY     90\n",
            "1   2      Bob   30.0  60000.0   LA     85\n",
            "2   3  Charlie    NaN     50.0  NaN    100\n",
            "3   4    David   40.0      NaN   SF     45\n",
            "4   5      Eve  200.0  80000.0   LA    105\n"
          ]
        }
      ],
      "source": [
        "import pandas as pd\n",
        "\n",
        "# Load the dataset (replace 'file_path.xlsx' with the actual path to your Excel file)\n",
        "import pandas as pd\n",
        "data = pd.read_excel(r'PreProcessingdataset_5entries.xlsx')\n",
        "\n",
        "# Show initial dataset information\n",
        "print(\"Initial Dataset Info:\")\n",
        "data.info()\n",
        "print(\"\\nInitial Dataset Head:\")\n",
        "print(data.head())\n"
      ]
    },
    {
      "cell_type": "code",
      "source": [
        "# Handle Missing Values\n",
        "# Replace missing values in numerical columns with the mean\n",
        "num_cols = data.select_dtypes(include=['number']).columns\n",
        "data[num_cols] = data[num_cols].fillna(data[num_cols].mean())\n",
        "\n",
        "# Replace missing values in categorical columns with the mode\n",
        "cat_cols = data.select_dtypes(include=['object']).columns\n",
        "data[cat_cols] = data[cat_cols].apply(lambda col: col.fillna(col.mode()[0]))\n",
        "\n",
        "print(\"\\nAfter Handling Missing Values:\")\n",
        "print(data.info())"
      ],
      "metadata": {
        "colab": {
          "base_uri": "https://localhost:8080/"
        },
        "id": "BCcRoGgQAO-v",
        "outputId": "e5bf4e80-9277-4296-876b-adbaf8ab5c5e"
      },
      "execution_count": 30,
      "outputs": [
        {
          "output_type": "stream",
          "name": "stdout",
          "text": [
            "\n",
            "After Handling Missing Values:\n",
            "<class 'pandas.core.frame.DataFrame'>\n",
            "RangeIndex: 6 entries, 0 to 5\n",
            "Data columns (total 6 columns):\n",
            " #   Column  Non-Null Count  Dtype  \n",
            "---  ------  --------------  -----  \n",
            " 0   ID      6 non-null      int64  \n",
            " 1   Name    6 non-null      object \n",
            " 2   Age     6 non-null      float64\n",
            " 3   Salary  6 non-null      float64\n",
            " 4   City    6 non-null      object \n",
            " 5   Score   6 non-null      int64  \n",
            "dtypes: float64(2), int64(2), object(2)\n",
            "memory usage: 416.0+ bytes\n",
            "None\n"
          ]
        }
      ]
    },
    {
      "cell_type": "code",
      "source": [
        "# Remove Duplicate Entries\n",
        "# Remove duplicate rows based on the 'ID' column (replace 'ID' with the appropriate column name)\n",
        "data = data.drop_duplicates(subset='ID', keep='first')\n",
        "\n",
        "print(\"\\nAfter Removing Duplicates:\")\n",
        "print(data.info())\n"
      ],
      "metadata": {
        "colab": {
          "base_uri": "https://localhost:8080/"
        },
        "id": "08FLz5w7ATdx",
        "outputId": "6e5627b1-adde-4725-be34-518d1abed0bc"
      },
      "execution_count": 31,
      "outputs": [
        {
          "output_type": "stream",
          "name": "stdout",
          "text": [
            "\n",
            "After Removing Duplicates:\n",
            "<class 'pandas.core.frame.DataFrame'>\n",
            "Index: 5 entries, 0 to 4\n",
            "Data columns (total 6 columns):\n",
            " #   Column  Non-Null Count  Dtype  \n",
            "---  ------  --------------  -----  \n",
            " 0   ID      5 non-null      int64  \n",
            " 1   Name    5 non-null      object \n",
            " 2   Age     5 non-null      float64\n",
            " 3   Salary  5 non-null      float64\n",
            " 4   City    5 non-null      object \n",
            " 5   Score   5 non-null      int64  \n",
            "dtypes: float64(2), int64(2), object(2)\n",
            "memory usage: 280.0+ bytes\n",
            "None\n"
          ]
        }
      ]
    },
    {
      "cell_type": "code",
      "source": [
        "# Handle Noise\n",
        "# Example adjustment for 'Age' > 100 and 'Score' > 100 (replace with relevant column names)\n",
        "data.loc[data['Age'] > 100, 'Age'] = 100\n",
        "data.loc[data['Score'] > 100, 'Score'] = 100\n",
        "\n",
        "print(\"\\nAfter Handling Noise:\")\n",
        "print(data[['Age', 'Score']].describe())\n"
      ],
      "metadata": {
        "colab": {
          "base_uri": "https://localhost:8080/"
        },
        "id": "9RJjGzEoAoZC",
        "outputId": "da5fdc99-bfbc-4b9e-9fc2-4fa64262380d"
      },
      "execution_count": 32,
      "outputs": [
        {
          "output_type": "stream",
          "name": "stdout",
          "text": [
            "\n",
            "After Handling Noise:\n",
            "              Age       Score\n",
            "count    5.000000    5.000000\n",
            "mean    58.800000   84.000000\n",
            "std     37.545972   22.748626\n",
            "min     25.000000   45.000000\n",
            "25%     30.000000   85.000000\n",
            "50%     40.000000   90.000000\n",
            "75%     99.000000  100.000000\n",
            "max    100.000000  100.000000\n"
          ]
        }
      ]
    },
    {
      "cell_type": "code",
      "source": [
        "# Show Before-and-After Comparisons\n",
        "# Note: This step requires saving intermediate steps or keeping copies for comparison.\n",
        "# Example: Display changes for missing value handling\n",
        "print(\"\\nMissing Values Before and After:\")\n",
        "print(data.isnull().sum())"
      ],
      "metadata": {
        "colab": {
          "base_uri": "https://localhost:8080/"
        },
        "id": "kPuvuYd1A0PS",
        "outputId": "165ed8f1-1d6c-4090-e1b2-516eea704708"
      },
      "execution_count": 33,
      "outputs": [
        {
          "output_type": "stream",
          "name": "stdout",
          "text": [
            "\n",
            "Missing Values Before and After:\n",
            "ID        0\n",
            "Name      0\n",
            "Age       0\n",
            "Salary    0\n",
            "City      0\n",
            "Score     0\n",
            "dtype: int64\n"
          ]
        }
      ]
    },
    {
      "cell_type": "code",
      "source": [
        "# Example: Display first few rows before and after duplicate removal\n",
        "# Store a copy of the dataset before duplicate removal for comparison\n",
        "before_duplicates = pd.read_excel('PreProcessingdataset_5entries.xlsx')\n",
        "before_duplicates = before_duplicates.dropna()  # Adjust for any preprocessing steps\n",
        "print(\"\\nDuplicates Before Removal:\")\n",
        "print(before_duplicates.duplicated(subset='ID').sum())\n",
        "print(data.info())\n",
        "print(\"\\nDuplicates After Removal:\")\n",
        "print(data.duplicated(subset='ID').sum())\n",
        "print(data.info())"
      ],
      "metadata": {
        "colab": {
          "base_uri": "https://localhost:8080/"
        },
        "id": "RUkPu-FnA1i5",
        "outputId": "be337abc-f5e1-4ae3-8f40-9324a3587475"
      },
      "execution_count": 35,
      "outputs": [
        {
          "output_type": "stream",
          "name": "stdout",
          "text": [
            "\n",
            "Duplicates Before Removal:\n",
            "1\n",
            "<class 'pandas.core.frame.DataFrame'>\n",
            "Index: 5 entries, 0 to 4\n",
            "Data columns (total 6 columns):\n",
            " #   Column  Non-Null Count  Dtype  \n",
            "---  ------  --------------  -----  \n",
            " 0   ID      5 non-null      int64  \n",
            " 1   Name    5 non-null      object \n",
            " 2   Age     5 non-null      float64\n",
            " 3   Salary  5 non-null      float64\n",
            " 4   City    5 non-null      object \n",
            " 5   Score   5 non-null      int64  \n",
            "dtypes: float64(2), int64(2), object(2)\n",
            "memory usage: 280.0+ bytes\n",
            "None\n",
            "\n",
            "Duplicates After Removal:\n",
            "0\n",
            "<class 'pandas.core.frame.DataFrame'>\n",
            "Index: 5 entries, 0 to 4\n",
            "Data columns (total 6 columns):\n",
            " #   Column  Non-Null Count  Dtype  \n",
            "---  ------  --------------  -----  \n",
            " 0   ID      5 non-null      int64  \n",
            " 1   Name    5 non-null      object \n",
            " 2   Age     5 non-null      float64\n",
            " 3   Salary  5 non-null      float64\n",
            " 4   City    5 non-null      object \n",
            " 5   Score   5 non-null      int64  \n",
            "dtypes: float64(2), int64(2), object(2)\n",
            "memory usage: 280.0+ bytes\n",
            "None\n"
          ]
        }
      ]
    }
  ]
}